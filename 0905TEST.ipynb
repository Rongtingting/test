{
 "cells": [
  {
   "cell_type": "code",
   "execution_count": 7,
   "metadata": {},
   "outputs": [
    {
     "name": "stdout",
     "output_type": "stream",
     "text": [
      "33\n",
      "33\n"
     ]
    }
   ],
   "source": [
    "import numpy as np\n",
    "uniprot_data=np.loadtxt('D:/Otherwork/Shishu/TEout_uniprot.txt',delimiter='\\t',skiprows=0,dtype=\"str\")\n",
    "\n",
    "out4=open('D:/Otherwork/Shishu/TEuniprot_pair.txt','w')\n",
    "out5=open('D:/Otherwork/Shishu/TEuniprot_pair_all.txt','w')\n",
    "len1=len(uniprot_data)\n",
    "print(len1)\n",
    "un_uni=np.unique(uniprot_data)\n",
    "len2=len(un_uni)\n",
    "print(len2)\n",
    "for i in range(len2):\n",
    "\tfor j in range(len2-i-1):\n",
    "\t\tpair=un_uni[i]+'+'+un_uni[i+1+j]\n",
    "\t\tout5.write(pair+'\\n')\n",
    "\t\tif pair in PPI_pair:\n",
    "\t\t\tout4.write(pair+'\\n')\n",
    "out4.close()\n",
    "out5.close()"
   ]
  },
  {
   "cell_type": "code",
   "execution_count": 6,
   "metadata": {
    "collapsed": true
   },
   "outputs": [],
   "source": [
    "PPI_data=np.loadtxt('D:/Otherwork/Shishu/PPI.txt',delimiter='\\t',skiprows=0,dtype=\"str\")\n",
    "PPI_pair=[]\n",
    "for i in range(PPI_data.shape[0]):\n",
    "\tpro1=PPI_data[i][0]\n",
    "\tpro2=PPI_data[i][1]\n",
    "\tpair1=pro1+'+'+pro2\n",
    "\tpair2=pro2+'+'+pro1\n",
    "\tPPI_pair.append(pair1)\n",
    "\tPPI_pair.append(pair2)"
   ]
  },
  {
   "cell_type": "code",
   "execution_count": null,
   "metadata": {
    "collapsed": true
   },
   "outputs": [],
   "source": []
  }
 ],
 "metadata": {
  "kernelspec": {
   "display_name": "Python 2",
   "language": "python",
   "name": "python2"
  },
  "language_info": {
   "codemirror_mode": {
    "name": "ipython",
    "version": 2
   },
   "file_extension": ".py",
   "mimetype": "text/x-python",
   "name": "python",
   "nbconvert_exporter": "python",
   "pygments_lexer": "ipython2",
   "version": "2.7.13"
  }
 },
 "nbformat": 4,
 "nbformat_minor": 2
}
